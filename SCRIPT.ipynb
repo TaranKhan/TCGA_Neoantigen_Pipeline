{
 "cells": [
  {
   "cell_type": "code",
   "execution_count": 4,
   "id": "76e02acf",
   "metadata": {},
   "outputs": [
    {
     "name": "stdout",
     "output_type": "stream",
     "text": [
      "['865cda60-ec30-4562-b681-0e90737a97ca', 'fb4c9803-3690-4f6a-9402-72a4f36d64d1', '61db06eb-299a-48b3-8c71-4bea78169b4c', '233400c5-6a47-40e2-bf2a-8b7fc9df462b', '5b846aad-6133-4133-a78b-65be81332cb4']\n"
     ]
    }
   ],
   "source": [
    "import requests\n",
    "\n",
    "def get_case_uuids(project_id):\n",
    "    url = \"https://api.gdc.cancer.gov/cases\"\n",
    "    filters = {\n",
    "        \"op\": \"in\",\n",
    "        \"content\": {\n",
    "            \"field\": \"project.project_id\",\n",
    "            \"value\": [project_id]\n",
    "        }\n",
    "    }\n",
    "\n",
    "    params = {\n",
    "        \"filters\": filters,\n",
    "        \"format\": \"JSON\",\n",
    "        \"size\": \"10000\",  # fetch up to 10k cases\n",
    "        \"fields\": \"case_id\"\n",
    "    }\n",
    "\n",
    "    r = requests.post(url, json=params)\n",
    "    hits = r.json()[\"data\"][\"hits\"]\n",
    "    return [hit[\"case_id\"] for hit in hits]\n",
    "\n",
    "# Get case IDs for TCGA-LAML\n",
    "case_ids = get_case_uuids(\"TCGA-LAML\")\n",
    "print(case_ids[:5])\n"
   ]
  },
  {
   "cell_type": "code",
   "execution_count": 6,
   "id": "6ab7ea5f",
   "metadata": {},
   "outputs": [
    {
     "name": "stdout",
     "output_type": "stream",
     "text": [
      "🧬 Found 4 MAF files.\n",
      "⬇️  Downloading d7b6f91b-dfee-4299-a4cb-ddc76073e82f.wxs.aliquot_ensemble_masked.maf.gz...\n",
      "⬇️  Downloading b831b331-7173-43a2-8387-74b41cb37ae8.wxs.aliquot_ensemble_masked.maf.gz...\n",
      "⬇️  Downloading b2c9852a-4b93-418e-9a30-d44b15782108.wxs.aliquot_ensemble_masked.maf.gz...\n",
      "⬇️  Downloading 323780cf-73f3-4183-9e29-5fdfd41a8409.wxs.aliquot_ensemble_masked.maf.gz...\n",
      "⚠️  Only 4 MAF files found for 5 cases. Some cases may not have open-access mutation files.\n"
     ]
    }
   ],
   "source": [
    "import os\n",
    "\n",
    "# Step 1: Your case UUIDs\n",
    "case_ids = [\n",
    "    '865cda60-ec30-4562-b681-0e90737a97ca',\n",
    "    'fb4c9803-3690-4f6a-9402-72a4f36d64d1',\n",
    "    '61db06eb-299a-48b3-8c71-4bea78169b4c',\n",
    "    '233400c5-6a47-40e2-bf2a-8b7fc9df462b',\n",
    "    '5b846aad-6133-4133-a78b-65be81332cb4'\n",
    "]\n",
    "\n",
    "# Step 2: Build GDC API filter\n",
    "query_url = \"https://api.gdc.cancer.gov/files\"\n",
    "\n",
    "params = {\n",
    "    \"filters\": {\n",
    "        \"op\": \"and\",\n",
    "        \"content\": [\n",
    "            {\"op\": \"in\", \"content\": {\"field\": \"cases.case_id\", \"value\": case_ids}},\n",
    "            {\"op\": \"in\", \"content\": {\"field\": \"data_format\", \"value\": [\"MAF\"]}},\n",
    "            {\"op\": \"in\", \"content\": {\"field\": \"access\", \"value\": [\"open\"]}}\n",
    "        ]\n",
    "    },\n",
    "    \"fields\": \"file_id,file_name\",\n",
    "    \"format\": \"JSON\",\n",
    "    \"size\": \"1000\"\n",
    "}\n",
    "\n",
    "response = requests.post(query_url, json=params)\n",
    "maf_files = response.json()[\"data\"][\"hits\"]\n",
    "print(f\"🧬 Found {len(maf_files)} MAF files.\")\n",
    "\n",
    "# Step 3: Create folder to save them\n",
    "os.makedirs(\"downloaded_mafs\", exist_ok=True)\n",
    "\n",
    "# Step 4: Download each file\n",
    "for file in maf_files:\n",
    "    file_id = file[\"file_id\"]\n",
    "    file_name = file[\"file_name\"]\n",
    "    url = f\"https://api.gdc.cancer.gov/data/{file_id}\"\n",
    "\n",
    "    print(f\"⬇️  Downloading {file_name}...\")\n",
    "    r = requests.get(url, stream=True)\n",
    "    with open(os.path.join(\"downloaded_mafs\", file_name), 'wb') as f:\n",
    "        for chunk in r.iter_content(chunk_size=1024):\n",
    "            f.write(chunk)\n",
    "            \n",
    "if len(maf_files) < len(case_ids):\n",
    "    print(f\"⚠️  Only {len(maf_files)} MAF files found for {len(case_ids)} cases. Some cases may not have open-access mutation files.\")\n"
   ]
  },
  {
   "cell_type": "code",
   "execution_count": 7,
   "id": "b2b55581",
   "metadata": {},
   "outputs": [
    {
     "name": "stdout",
     "output_type": "stream",
     "text": [
      "✅ Merged MAF shape: (30, 140)\n",
      "  Hugo_Symbol Variant_Classification          Tumor_Sample_Barcode\n",
      "0     CACNA1S      Missense_Mutation  TCGA-AB-2803-03B-01W-0728-08\n",
      "1       LMOD1      Missense_Mutation  TCGA-AB-2803-03B-01W-0728-08\n",
      "2       PEX13        Frame_Shift_Del  TCGA-AB-2803-03B-01W-0728-08\n",
      "3       RPL32      Missense_Mutation  TCGA-AB-2803-03B-01W-0728-08\n",
      "4      CC2D2A      Missense_Mutation  TCGA-AB-2803-03B-01W-0728-08\n"
     ]
    }
   ],
   "source": [
    "import pandas as pd\n",
    "import gzip\n",
    "import os\n",
    "\n",
    "# Path to downloaded files\n",
    "maf_dir = \"downloaded_mafs\"\n",
    "merged_maf = pd.DataFrame()\n",
    "\n",
    "for file in os.listdir(maf_dir):\n",
    "    if file.endswith(\".maf.gz\"):\n",
    "        file_path = os.path.join(maf_dir, file)\n",
    "        with gzip.open(file_path, 'rt') as f:\n",
    "            df = pd.read_csv(f, sep='\\t', comment='#', low_memory=False)\n",
    "            merged_maf = pd.concat([merged_maf, df], ignore_index=True)\n",
    "\n",
    "print(f\"✅ Merged MAF shape: {merged_maf.shape}\")\n",
    "print(merged_maf[['Hugo_Symbol', 'Variant_Classification', 'Tumor_Sample_Barcode']].head())\n"
   ]
  },
  {
   "cell_type": "code",
   "execution_count": 8,
   "id": "c5df2a62",
   "metadata": {},
   "outputs": [
    {
     "name": "stdout",
     "output_type": "stream",
     "text": [
      "  Hugo_Symbol HGVSp_Short          Tumor_Sample_Barcode\n",
      "0     CACNA1S     p.L363F  TCGA-AB-2803-03B-01W-0728-08\n",
      "1       LMOD1      p.T55M  TCGA-AB-2803-03B-01W-0728-08\n",
      "3       RPL32      p.R44S  TCGA-AB-2803-03B-01W-0728-08\n",
      "4      CC2D2A    p.T1114M  TCGA-AB-2803-03B-01W-0728-08\n",
      "5        LNX1     p.E176K  TCGA-AB-2803-03B-01W-0728-08\n"
     ]
    }
   ],
   "source": [
    "missense_maf = merged_maf[merged_maf['Variant_Classification'] == 'Missense_Mutation']\n",
    "print(missense_maf[['Hugo_Symbol', 'HGVSp_Short', 'Tumor_Sample_Barcode']].dropna().head())\n"
   ]
  },
  {
   "cell_type": "code",
   "execution_count": 10,
   "id": "60b86aa7",
   "metadata": {},
   "outputs": [
    {
     "name": "stdout",
     "output_type": "stream",
     "text": [
      "      Gene  Mutation Neoepitope\n",
      "0  CACNA1S   p.L363F  LDEDFRGYM\n",
      "1    LMOD1    p.T55M  QRNQMEKQS\n",
      "2    RPL32    p.R44S  GIDNSVRRR\n",
      "3   CC2D2A  p.T1114M  TVCHMTTAE\n",
      "4     LNX1   p.E176K  LMTDKPGLD\n"
     ]
    }
   ],
   "source": [
    "# Sample input: Replace this with your actual dataframe\n",
    "data = {\n",
    "    'Hugo_Symbol': ['CACNA1S', 'LMOD1', 'RPL32', 'CC2D2A', 'LNX1'],\n",
    "    'HGVSp_Short': ['p.L363F', 'p.T55M', 'p.R44S', 'p.T1114M', 'p.E176K']\n",
    "}\n",
    "df = pd.DataFrame(data)\n",
    "\n",
    "def get_protein_sequence(ensembl_gene_name):\n",
    "    \"\"\"Fetches canonical protein sequence using Ensembl REST API.\"\"\"\n",
    "    server = \"https://rest.ensembl.org\"\n",
    "    ext = f\"/sequence/id/{ensembl_gene_name}?type=protein\"\n",
    "    headers = {\"Content-Type\": \"text/x-fasta\"}\n",
    "\n",
    "    # Get Ensembl protein ID from gene name\n",
    "    lookup_url = f\"{server}/lookup/symbol/homo_sapiens/{ensembl_gene_name}?expand=1\"\n",
    "    r = requests.get(lookup_url, headers={\"Content-Type\": \"application/json\"})\n",
    "    if not r.ok:\n",
    "        return None\n",
    "    decoded = r.json()\n",
    "\n",
    "    # Find canonical transcript's protein ID\n",
    "    transcripts = decoded.get(\"Transcript\", [])\n",
    "    for t in transcripts:\n",
    "        if t.get(\"is_canonical\"):\n",
    "            protein_id = t.get(\"Translation\", {}).get(\"id\")\n",
    "            break\n",
    "    else:\n",
    "        return None\n",
    "\n",
    "    # Now fetch protein sequence\n",
    "    seq_url = f\"{server}/sequence/id/{protein_id}?type=protein\"\n",
    "    r = requests.get(seq_url, headers={\"Content-Type\": \"text/plain\"})\n",
    "    return r.text.strip() if r.ok else None\n",
    "\n",
    "def parse_mutation(hgvsp):\n",
    "    \"\"\"Parses mutation like 'p.L363F' to get original AA, position, and mutant AA\"\"\"\n",
    "    import re\n",
    "    match = re.match(r\"p\\.([A-Z])(\\d+)([A-Z])\", hgvsp)\n",
    "    if match:\n",
    "        orig, pos, mut = match.groups()\n",
    "        return orig, int(pos), mut\n",
    "    return None, None, None\n",
    "\n",
    "# Store results\n",
    "results = []\n",
    "\n",
    "for index, row in df.iterrows():\n",
    "    gene = row['Hugo_Symbol']\n",
    "    mut_str = row['HGVSp_Short']\n",
    "\n",
    "    orig, pos, mut = parse_mutation(mut_str)\n",
    "    if pos is None:\n",
    "        continue\n",
    "\n",
    "    seq = get_protein_sequence(gene)\n",
    "    if not seq or len(seq) < pos:\n",
    "        continue\n",
    "\n",
    "    # Extract 9-mer\n",
    "    start = max(0, pos - 5)\n",
    "    end = min(len(seq), pos + 4)\n",
    "    peptide = list(seq[start:end])\n",
    "    center_index = pos - start - 1\n",
    "\n",
    "    if 0 <= center_index < len(peptide):\n",
    "        peptide[center_index] = mut\n",
    "        results.append({\n",
    "            'Gene': gene,\n",
    "            'Mutation': mut_str,\n",
    "            'Neoepitope': ''.join(peptide)\n",
    "        })\n",
    "\n",
    "# Final DataFrame\n",
    "neo_df = pd.DataFrame(results)\n",
    "print(neo_df)"
   ]
  },
  {
   "cell_type": "code",
   "execution_count": 13,
   "id": "2eaff5f8",
   "metadata": {},
   "outputs": [
    {
     "name": "stdout",
     "output_type": "stream",
     "text": [
      "✅ Neoepitopes saved to results/neoepitopes.csv\n"
     ]
    }
   ],
   "source": [
    "os.makedirs(\"results\", exist_ok=True)\n",
    "# Save result\n",
    "neo_df.to_csv(\"results/neoepitopes.csv\", index=False)\n",
    "print(\"✅ Neoepitopes saved to results/neoepitopes.csv\")\n"
   ]
  },
  {
   "cell_type": "code",
   "execution_count": null,
   "id": "0e05209a",
   "metadata": {},
   "outputs": [],
   "source": []
  }
 ],
 "metadata": {
  "kernelspec": {
   "display_name": "Python 3 (ipykernel)",
   "language": "python",
   "name": "python3"
  },
  "language_info": {
   "codemirror_mode": {
    "name": "ipython",
    "version": 3
   },
   "file_extension": ".py",
   "mimetype": "text/x-python",
   "name": "python",
   "nbconvert_exporter": "python",
   "pygments_lexer": "ipython3",
   "version": "3.11.5"
  }
 },
 "nbformat": 4,
 "nbformat_minor": 5
}
